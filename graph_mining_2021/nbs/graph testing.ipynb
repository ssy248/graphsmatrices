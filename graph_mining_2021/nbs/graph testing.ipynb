{
 "cells": [
  {
   "cell_type": "code",
   "execution_count": 24,
   "id": "c250e416",
   "metadata": {},
   "outputs": [],
   "source": [
    "import numpy as np"
   ]
  },
  {
   "cell_type": "code",
   "execution_count": 2,
   "id": "29b54d6f",
   "metadata": {},
   "outputs": [],
   "source": [
    "# construct graph with 4-clique, cut edge, and triangle \n",
    "import numpy as np\n",
    "mat1 = np.zeros((7,7))"
   ]
  },
  {
   "cell_type": "code",
   "execution_count": 1,
   "id": "9d4d0a85",
   "metadata": {},
   "outputs": [],
   "source": [
    "edge_list = [(0,1), (0,3), (0,2), (1,2), (1,3), (2,3), (3,4), (4,5), (5,6), (4,6)]"
   ]
  },
  {
   "cell_type": "code",
   "execution_count": 3,
   "id": "97b0058c",
   "metadata": {},
   "outputs": [],
   "source": [
    "import networkx as nx\n",
    "\n",
    "g = nx.Graph()\n",
    "\n",
    "g.add_nodes_from([0,1,2, 3,4,5, 6])\n",
    "\n",
    "g.add_edges_from(edge_list) #[(1, 2), (1, 3), (2,3), (4,5), (1,4)])"
   ]
  },
  {
   "cell_type": "code",
   "execution_count": 4,
   "id": "19afce02",
   "metadata": {},
   "outputs": [],
   "source": [
    "a = nx.to_numpy_matrix(g)"
   ]
  },
  {
   "cell_type": "code",
   "execution_count": 5,
   "id": "4821dba2",
   "metadata": {},
   "outputs": [],
   "source": [
    "pos = nx.spring_layout(g)"
   ]
  },
  {
   "cell_type": "code",
   "execution_count": 6,
   "id": "a0047738",
   "metadata": {},
   "outputs": [
    {
     "data": {
      "image/png": "[encoded data removed]",
      "text/plain": [
       "<Figure size 432x288 with 1 Axes>"
      ]
     },
     "metadata": {},
     "output_type": "display_data"
    }
   ],
   "source": [
    "nx.draw(g)"
   ]
  },
  {
   "cell_type": "code",
   "execution_count": 7,
   "id": "b8e3a412",
   "metadata": {},
   "outputs": [],
   "source": [
    "cycle_basis = nx.cycle_basis(g, 0) "
   ]
  },
  {
   "cell_type": "code",
   "execution_count": 8,
   "id": "9b4110e0",
   "metadata": {},
   "outputs": [
    {
     "data": {
      "text/plain": [
       "[[1, 2, 0], [3, 2, 0], [1, 3, 0], [5, 6, 4]]"
      ]
     },
     "execution_count": 8,
     "metadata": {},
     "output_type": "execute_result"
    }
   ],
   "source": [
    "cycle_basis"
   ]
  },
  {
   "cell_type": "code",
   "execution_count": 18,
   "id": "e5c79493",
   "metadata": {},
   "outputs": [],
   "source": [
    "test_list= cycle_basis[3]\n",
    "\n",
    "pairs = []\n",
    "for i in range(len(test_list)):\n",
    "    if i == len(test_list)-1:\n",
    "        pair= (test_list[i], test_list[0])\n",
    "        pairs.append(pair)\n",
    "        continue\n",
    "    pair = (test_list[i], test_list[i+1])\n",
    "    pairs.append(pair)\n",
    "    "
   ]
  },
  {
   "cell_type": "code",
   "execution_count": 19,
   "id": "8557a9a8",
   "metadata": {},
   "outputs": [
    {
     "data": {
      "text/plain": [
       "[(5, 6), (6, 4), (4, 5)]"
      ]
     },
     "execution_count": 19,
     "metadata": {},
     "output_type": "execute_result"
    }
   ],
   "source": [
    "pairs"
   ]
  },
  {
   "cell_type": "code",
   "execution_count": 20,
   "id": "f6338980",
   "metadata": {},
   "outputs": [],
   "source": [
    "# take the intersection of edges in cycle basis\n",
    "\n",
    "tot_pairs = []\n",
    "for group in cycle_basis:\n",
    "    # extract the edges\n",
    "    pairs = []\n",
    "    for i in range(len(group)):\n",
    "        if i== len(group)-1:\n",
    "            pair = (group[i], group[0])\n",
    "            pairs.append(pair)\n",
    "            continue\n",
    "        pair = (group[i], group[i+1])\n",
    "        pairs.append(pair)\n",
    "    tot_pairs.append(pairs)\n",
    "    "
   ]
  },
  {
   "cell_type": "code",
   "execution_count": 21,
   "id": "e12fb9aa",
   "metadata": {},
   "outputs": [
    {
     "data": {
      "text/plain": [
       "[[(1, 2), (2, 0), (0, 1)],\n",
       " [(3, 2), (2, 0), (0, 3)],\n",
       " [(1, 3), (3, 0), (0, 1)],\n",
       " [(5, 6), (6, 4), (4, 5)]]"
      ]
     },
     "execution_count": 21,
     "metadata": {},
     "output_type": "execute_result"
    }
   ],
   "source": [
    "tot_pairs"
   ]
  },
  {
   "cell_type": "code",
   "execution_count": null,
   "id": "1ef8f4f3",
   "metadata": {},
   "outputs": [],
   "source": []
  },
  {
   "cell_type": "code",
   "execution_count": 3,
   "id": "d4d6bf65",
   "metadata": {},
   "outputs": [],
   "source": [
    "from scipy.sparse import csgraph\n"
   ]
  },
  {
   "cell_type": "code",
   "execution_count": null,
   "id": "7978ec28",
   "metadata": {},
   "outputs": [],
   "source": [
    "edge_list1 = [[0,1], [1,2]]\n",
    "\n",
    "for e in edge_list1:\n",
    "    e1 = e[0]\n",
    "    e2 = e[1]\n",
    "    mat1[e1, e2]=1\n",
    "    mat1[e2, e1]=1\n",
    "    "
   ]
  },
  {
   "cell_type": "code",
   "execution_count": null,
   "id": "0bb45988",
   "metadata": {},
   "outputs": [],
   "source": [
    "# manually do Laplacian\n",
    "n= 7\n",
    "\n",
    "deg_mat = np.zeros((n, n))# diagonal where deg_{i} is deg of v_i\n",
    "ind=0\n",
    "for row in mat1:\n",
    "    r_sum = sum(row)\n",
    "    deg_mat[ind, ind] = r_sum\n",
    "    ind = ind+1\n",
    "\n",
    "# L = D - A (degree) minus (adjacency)\n",
    "Lap_mat = deg_mat - mat1 \n"
   ]
  },
  {
   "cell_type": "code",
   "execution_count": null,
   "id": "900c0e95",
   "metadata": {},
   "outputs": [],
   "source": [
    "# embedding of the graphs into space with distance given by kernel\n",
    "\n",
    "# SVM or find boundaries"
   ]
  },
  {
   "cell_type": "code",
   "execution_count": 22,
   "id": "11ff9cc0",
   "metadata": {},
   "outputs": [],
   "source": [
    "# path k graph code \n",
    "\n",
    "def pathmatrixk(m,k): # m is matrix \n",
    "    \n",
    "    n=len(m)\n",
    "    powersdictionary= {}\n",
    "    \n",
    "    new_edge_list = []\n",
    "    \n",
    "    prevm= m \n",
    "    powersdictionary[1]= m\n",
    "    for i in range(2,k):\n",
    "        prevm= np.matmul(prevm,m)\n",
    "        powersdictionary[i]= prevm\n",
    "\n",
    "    pathmatk = np.zeros((n,n))\n",
    "    for kk in range(1,k):\n",
    "        kpow = powersdictionary[kk]\n",
    "        for i in range(0,n-1):\n",
    "            for j in range(0,n-1):\n",
    "                if i==j:\n",
    "                    continue\n",
    "                if pathmatk[i,j]==0: # check if there already exists path\n",
    "                    if kpow[i,j]>0:\n",
    "                        #print('kpow',kpow[i,j])\n",
    "                        pathmatk[i,j]= kk\n",
    "                        new_edge_list.append((i,j))\n",
    "                        new_edge_list.append((j,i))\n",
    "                    \n",
    "    return pathmatk, new_edge_list"
   ]
  },
  {
   "cell_type": "code",
   "execution_count": 31,
   "id": "a32e9875",
   "metadata": {},
   "outputs": [],
   "source": [
    "k = 4\n",
    "\n",
    "pgraph = pathmatrixk(a,k)"
   ]
  },
  {
   "cell_type": "code",
   "execution_count": 32,
   "id": "47be56c3",
   "metadata": {},
   "outputs": [],
   "source": [
    "pgraph_mat = pgraph[0]"
   ]
  },
  {
   "cell_type": "code",
   "execution_count": 33,
   "id": "e9343c2f",
   "metadata": {},
   "outputs": [],
   "source": [
    "pgraph_nx = nx.from_numpy_matrix(pgraph_mat)"
   ]
  },
  {
   "cell_type": "code",
   "execution_count": 34,
   "id": "f869204f",
   "metadata": {},
   "outputs": [
    {
     "data": {
      "image/png": "[encoded data removed]",
      "text/plain": [
       "<Figure size 432x288 with 1 Axes>"
      ]
     },
     "metadata": {},
     "output_type": "display_data"
    }
   ],
   "source": [
    "nx.draw(pgraph_nx)"
   ]
  },
  {
   "cell_type": "code",
   "execution_count": 27,
   "id": "00616fd7",
   "metadata": {},
   "outputs": [],
   "source": [
    "# convert to nx graph\n",
    "import numpy as np\n",
    "A = np.array([[1, 1], [2, 1]])\n",
    "G = nx.from_numpy_matrix(A)"
   ]
  },
  {
   "cell_type": "code",
   "execution_count": 39,
   "id": "54644c83",
   "metadata": {},
   "outputs": [],
   "source": [
    "# line graph code\n",
    "\n",
    "def findinE(E, r,c):\n",
    "    for e in E:\n",
    "        if e[0]==r and e[1]==c:\n",
    "            return 1\n",
    "        if e[0]==c and e[0]==r:\n",
    "            return 1\n",
    "    return 0\n",
    "\n",
    "def linegraph(G):\n",
    "    hashnewVertexoldEdge = {}\n",
    "    newVertexSet =[]\n",
    "    ine= 0\n",
    "    E =[] # edges \n",
    "    s = len(G)\n",
    "    print(\"s is \", s)\n",
    "    for r in range(0,s):\n",
    "        for c in range(0,s):\n",
    "            if G[r,c]==1 and findinE(E, r,c) ==0:\n",
    "\n",
    "                E.append([r,c]) # add to edges \n",
    "                E.append([c,r])\n",
    "                newVertexSet.append(ine)\n",
    "                hashnewVertexoldEdge[ine] = [r,c]\n",
    "                ine=ine+1\n",
    "    print(\"ine is \", ine)\n",
    "    # num edge is num 1's divided by 2 \n",
    "    #ine = s\n",
    "    s = ine\n",
    "    newadjmat = np.zeros((ine,ine))\n",
    "    new_edge_list = [] # Jan 7, 2022 \n",
    "    #edges = non empty intersection\n",
    "    for v in newVertexSet:\n",
    "        for vv2 in newVertexSet:\n",
    "            e1 = hashnewVertexoldEdge[v]\n",
    "            e2 = hashnewVertexoldEdge[vv2]\n",
    "            # check for intersection\n",
    "            v1 = e1[0]\n",
    "            v2 = e1[1]\n",
    "            v3 = e2[0]\n",
    "            v4 = e2[1]\n",
    "            if v1 == v3 or v1 ==v4:\n",
    "                # add edge\n",
    "                newadjmat[v,vv2] =1\n",
    "                newadjmat[vv2,v] =1\n",
    "                new_edge_list.append((v,vv2))\n",
    "                new_edge_list.append((vv2, v))\n",
    "                if v==vv2: # change diagonal to 0\n",
    "                    newadjmat[v,vv2] = 0\n",
    "            if v2 ==v3 or v2==v4:\n",
    "                # add edge \n",
    "                newadjmat[v,vv2]=1\n",
    "                newadjmat[vv2,v]=1\n",
    "                new_edge_list.append((v,vv2))\n",
    "                new_edge_list.append((vv2,v))\n",
    "                if v==vv2:\n",
    "                    newadjmat[v,vv2] = 0\n",
    "    return newadjmat, hashnewVertexoldEdge, new_edge_list\n"
   ]
  },
  {
   "cell_type": "code",
   "execution_count": 40,
   "id": "b2c4a656",
   "metadata": {},
   "outputs": [
    {
     "name": "stdout",
     "output_type": "stream",
     "text": [
      "s is  7\n",
      "ine is  10\n"
     ]
    }
   ],
   "source": [
    "# try applying line graph twice ? so vertex -> edge -> vertex\n",
    "line_graph = linegraph(a)\n"
   ]
  },
  {
   "cell_type": "code",
   "execution_count": null,
   "id": "0416ca50",
   "metadata": {},
   "outputs": [],
   "source": [
    "#https://jmlr.org/papers/volume21/18-370/18-370.pdf\n",
    "\n",
    "clf = SVC(kernel=’precomputed’).fit(K_train, y_train)\n",
    "y_pred = clf.predict(K_test)"
   ]
  }
 ],
 "metadata": {
  "kernelspec": {
   "display_name": "Python 3 (ipykernel)",
   "language": "python",
   "name": "python3"
  },
  "language_info": {
   "codemirror_mode": {
    "name": "ipython",
    "version": 3
   },
   "file_extension": ".py",
   "mimetype": "text/x-python",
   "name": "python",
   "nbconvert_exporter": "python",
   "pygments_lexer": "ipython3",
   "version": "3.7.0"
  }
 },
 "nbformat": 4,
 "nbformat_minor": 5
}
